{
 "cells": [
  {
   "cell_type": "code",
   "execution_count": 1,
   "metadata": {
    "tags": [
     "parameters"
    ]
   },
   "outputs": [],
   "source": [
    "flex_title = \"Yolov5 Face detection\"\n",
    "flex_subtitle = \"\"\n",
    "flex_source_link = \"https://github.com/emingenc/yolov5-face/blob/master/face_detect.ipynb\""
   ]
  },
  {
   "cell_type": "code",
   "execution_count": 2,
   "metadata": {},
   "outputs": [],
   "source": [
    "import ipywidgets as widgets\n",
    "import IPython.display as display\n",
    "import os\n",
    "\n",
    "from ipywidgets import HBox, VBox, IntSlider, Play, jslink"
   ]
  },
  {
   "cell_type": "code",
   "execution_count": 3,
   "metadata": {},
   "outputs": [],
   "source": [
    "upload = widgets.FileUpload(\n",
    "    accept='image/*',  # Accepted file extension e.g. '.txt', '.pdf', 'image/*', 'image/*,.pdf'\n",
    "    multiple= False\n",
    ")\n",
    "btn_run = widgets.Button(description='Detect')\n",
    "label_detect = widgets.Label()\n",
    "input_pl = widgets.Output()\n",
    "input_pl.clear_output()\n",
    "out_pl = widgets.Output()\n",
    "out_pl.clear_output()"
   ]
  },
  {
   "cell_type": "code",
   "execution_count": 4,
   "metadata": {},
   "outputs": [],
   "source": [
    "def on_click_detect(change):\n",
    "\n",
    "    img = upload.data\n",
    "    image_show = widgets.Image(value=img[-1], format='png', width=300, height=400)\n",
    "    image_name = list(upload.value.keys())[-1]\n",
    "    input_pl.clear_output()\n",
    "    with input_pl: display.display(image_show)\n",
    "    try:\n",
    "        os.system(f\"python3 detect_face.py --weights yolov5n-0.5.pt --image {image_name}\")\n",
    "        with open('result.jpg', 'rb') as result_img:\n",
    "            result = result_img.read()\n",
    "            result_show = widgets.Image(value=result, format='png')\n",
    "        out_pl.clear_output()\n",
    "        with out_pl: display.display(result_show)\n",
    "        label_detect.value='Face Detected'\n",
    "    except:\n",
    "        pass\n",
    "\n",
    "\n",
    "btn_run.on_click(on_click_detect)"
   ]
  },
  {
   "cell_type": "markdown",
   "metadata": {},
   "source": [
    "#### Displaying the GUI"
   ]
  },
  {
   "cell_type": "markdown",
   "metadata": {
    "tags": [
     "sidebar"
    ]
   },
   "source": [
    "## Sidebar"
   ]
  },
  {
   "cell_type": "code",
   "execution_count": 5,
   "metadata": {},
   "outputs": [],
   "source": [
    "lbl1 = widgets.Label(\"Controls\")\n",
    "lbl2 = widgets.Label(\"Year\")"
   ]
  },
  {
   "cell_type": "code",
   "execution_count": 6,
   "metadata": {
    "tags": [
     "body",
     "class=darken-4",
     "class=blue"
    ]
   },
   "outputs": [
    {
     "data": {
      "application/vnd.jupyter.widget-view+json": {
       "model_id": "c48a01dfb46249f7bc3e71a64949a83f",
       "version_major": 2,
       "version_minor": 0
      },
      "text/plain": [
       "VBox(children=(Label(value='Select your image!'), FileUpload(value={}, accept='image/*', description='Upload')…"
      ]
     },
     "metadata": {},
     "output_type": "display_data"
    }
   ],
   "source": [
    "layout = widgets.Layout(\n",
    "    display='flex',\n",
    "    flex_flow='column',\n",
    "    justify_content='space-between',\n",
    "    height= '350',\n",
    "    margin='15'\n",
    ")\n",
    "VBox([widgets.Label('Select your image!'),\n",
    "      upload, btn_run, input_pl],layout=layout)"
   ]
  },
  {
   "cell_type": "markdown",
   "metadata": {},
   "source": [
    "## App"
   ]
  },
  {
   "cell_type": "code",
   "execution_count": 7,
   "metadata": {
    "tags": [
     "body"
    ]
   },
   "outputs": [
    {
     "data": {
      "application/vnd.jupyter.widget-view+json": {
       "model_id": "bf4e9afe4cd7406aaf5da64506a4e52b",
       "version_major": 2,
       "version_minor": 0
      },
      "text/plain": [
       "Output()"
      ]
     },
     "metadata": {},
     "output_type": "display_data"
    }
   ],
   "source": [
    "out_pl"
   ]
  },
  {
   "cell_type": "code",
   "execution_count": null,
   "metadata": {},
   "outputs": [],
   "source": []
  }
 ],
 "metadata": {
  "celltoolbar": "Tags",
  "interpreter": {
   "hash": "aee8b7b246df8f9039afb4144a1f6fd8d2ca17a180786b69acc140d282b71a49"
  },
  "kernelspec": {
   "display_name": "Python 3 (ipykernel)",
   "language": "python",
   "name": "python3"
  },
  "language_info": {
   "codemirror_mode": {
    "name": "ipython",
    "version": 3
   },
   "file_extension": ".py",
   "mimetype": "text/x-python",
   "name": "python",
   "nbconvert_exporter": "python",
   "pygments_lexer": "ipython3",
   "version": "3.8.3"
  }
 },
 "nbformat": 4,
 "nbformat_minor": 4
}
